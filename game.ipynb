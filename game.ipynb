{
 "cells": [
  {
   "cell_type": "code",
   "execution_count": null,
   "id": "93adc7fd",
   "metadata": {},
   "outputs": [
    {
     "name": "stdout",
     "output_type": "stream",
     "text": [
      "Let's play Rock-Paper-Scissors!\n",
      "Enter your choice:\n",
      "1. Rock\n",
      "2. Paper\n",
      "3. Scissors\n"
     ]
    }
   ],
   "source": [
    "import random\n",
    "\n",
    "def play_game():\n",
    "    print(\"Let's play Rock-Paper-Scissors!\")\n",
    "    print(\"Enter your choice:\")\n",
    "    print(\"1. Rock\")\n",
    "    print(\"2. Paper\")\n",
    "    print(\"3. Scissors\")\n",
    "    \n",
    "    choices = [\"rock\", \"paper\", \"scissors\"]\n",
    "    player_choice = int(input(\"Your choice (1-3): \"))\n",
    "    \n",
    "    if player_choice < 1 or player_choice > 3:\n",
    "        print(\"Invalid choice. Please try again.\")\n",
    "        play_game()\n",
    "    else:\n",
    "        player_choice -= 1\n",
    "        player_move = choices[player_choice]\n",
    "        print(\"You chose:\", player_move)\n",
    "        \n",
    "        computer_choice = random.randint(0, 2)\n",
    "        computer_move = choices[computer_choice]\n",
    "        print(\"Computer chose:\", computer_move)\n",
    "        \n",
    "        if player_move == computer_move:\n",
    "            print(\"It's a tie!\")\n",
    "        elif (player_move == \"rock\" and computer_move == \"scissors\") or (player_move == \"paper\" and computer_move == \"rock\") or (player_move == \"scissors\" and computer_move == \"paper\"):\n",
    "            print(\"You win!\")\n",
    "        else:\n",
    "            print(\"Computer wins!\")\n",
    "            \n",
    "        play_again()\n",
    "\n",
    "def play_again():\n",
    "    choice = input(\"Do you want to play again? (yes/no): \")\n",
    "    \n",
    "    if choice.lower() == \"yes\":\n",
    "        play_game()\n",
    "    elif choice.lower() == \"no\":\n",
    "        print(\"Thanks for playing!\")\n",
    "    else:\n",
    "        print(\"Invalid choice. Please enter 'yes' or 'no'.\")\n",
    "        play_again()\n",
    "\n",
    "play_game()\n"
   ]
  },
  {
   "cell_type": "code",
   "execution_count": null,
   "id": "acf06870",
   "metadata": {},
   "outputs": [],
   "source": []
  }
 ],
 "metadata": {
  "kernelspec": {
   "display_name": "Python 3 (ipykernel)",
   "language": "python",
   "name": "python3"
  },
  "language_info": {
   "codemirror_mode": {
    "name": "ipython",
    "version": 3
   },
   "file_extension": ".py",
   "mimetype": "text/x-python",
   "name": "python",
   "nbconvert_exporter": "python",
   "pygments_lexer": "ipython3",
   "version": "3.11.1"
  }
 },
 "nbformat": 4,
 "nbformat_minor": 5
}
